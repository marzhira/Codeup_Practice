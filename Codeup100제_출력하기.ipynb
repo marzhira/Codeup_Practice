{
  "nbformat": 4,
  "nbformat_minor": 0,
  "metadata": {
    "colab": {
      "name": "Codeup100제_출력하기",
      "provenance": [],
      "collapsed_sections": [],
      "authorship_tag": "ABX9TyMcisgxmNH4VwWqqijZ2M9a",
      "include_colab_link": true
    },
    "kernelspec": {
      "name": "python3",
      "display_name": "Python 3"
    },
    "language_info": {
      "name": "python"
    }
  },
  "cells": [
    {
      "cell_type": "markdown",
      "metadata": {
        "id": "view-in-github",
        "colab_type": "text"
      },
      "source": [
        "<a href=\"https://colab.research.google.com/github/marzhira/Codeup_Practice/blob/main/Codeup100%EC%A0%9C_%EC%B6%9C%EB%A0%A5%ED%95%98%EA%B8%B0.ipynb\" target=\"_parent\"><img src=\"https://colab.research.google.com/assets/colab-badge.svg\" alt=\"Open In Colab\"/></a>"
      ]
    },
    {
      "cell_type": "code",
      "metadata": {
        "colab": {
          "base_uri": "https://localhost:8080/"
        },
        "id": "CwjCW9gSHcQR",
        "outputId": "8c5807b3-68f0-497b-c9bc-0cb62108be2f"
      },
      "source": [
        "# python 언어에서 가장 기본적인 명령이 출력문이다.\n",
        "# print( )를 이용해 다음 단어를 출력하시오.\n",
        "\n",
        "# Hello\n",
        "\n",
        "print(\"Hello\")"
      ],
      "execution_count": null,
      "outputs": [
        {
          "output_type": "stream",
          "text": [
            "Hello\n"
          ],
          "name": "stdout"
        }
      ]
    },
    {
      "cell_type": "code",
      "metadata": {
        "colab": {
          "base_uri": "https://localhost:8080/"
        },
        "id": "IGCo5cPCH0Ad",
        "outputId": "3361ef84-8a11-4b41-9647-1c307853349d"
      },
      "source": [
        "# 이번에는 공백( )을 포함한 문장을 출력한다.\n",
        "# 다음 문장을 출력해보자.\n",
        "\n",
        "# Hello World\n",
        "# (대소문자에 주의한다.)\n",
        "\n",
        "print(\"Hello World\")"
      ],
      "execution_count": null,
      "outputs": [
        {
          "output_type": "stream",
          "text": [
            "Hello World\n"
          ],
          "name": "stdout"
        }
      ]
    },
    {
      "cell_type": "code",
      "metadata": {
        "colab": {
          "base_uri": "https://localhost:8080/"
        },
        "id": "ww9E4x1_ICLE",
        "outputId": "683f8e7e-01aa-4624-ea15-f759ff9063ca"
      },
      "source": [
        "# 이번에는 줄을 바꿔 출력하는 출력문을 연습해보자.\n",
        "# 다음과 같이 줄을 바꿔 출력해야 한다.\n",
        "\n",
        "# Hello\n",
        "# World\n",
        "# (두 줄에 걸쳐 줄을 바꿔 출력)\n",
        "\n",
        "print(\"Hello\")\n",
        "print(\"World\")"
      ],
      "execution_count": null,
      "outputs": [
        {
          "output_type": "stream",
          "text": [
            "Hello\n",
            "World\n"
          ],
          "name": "stdout"
        }
      ]
    },
    {
      "cell_type": "code",
      "metadata": {
        "colab": {
          "base_uri": "https://localhost:8080/"
        },
        "id": "8DlWpc5AIUOE",
        "outputId": "567376b2-473e-47da-d8d8-9d07be688388"
      },
      "source": [
        "# 이번에는 작은 따옴표(')(single quotation mark)가 들어있는\n",
        "# 출력문 연습을 해보자.\n",
        "\n",
        "# 다음 문장을 출력하시오.\n",
        "\n",
        "# 'Hello'\n",
        "print(\"'Hello'\")"
      ],
      "execution_count": null,
      "outputs": [
        {
          "output_type": "stream",
          "text": [
            "'Hello'\n"
          ],
          "name": "stdout"
        }
      ]
    },
    {
      "cell_type": "code",
      "metadata": {
        "colab": {
          "base_uri": "https://localhost:8080/"
        },
        "id": "lsNEZ7gqIgub",
        "outputId": "c94be1e1-c4c9-4c4e-fb9d-f64e710dea68"
      },
      "source": [
        "# 이번에는 큰따옴표(\")(double quotation mark)가 포함된 출력문을 연습해보자.\n",
        "\n",
        "# 다음 문장을 출력하시오.\n",
        "\n",
        "# \"Hello World\"\n",
        "# (단, 큰따옴표도 함께 출력한다.)\n",
        "\n",
        "# 예시\n",
        "# print(' \" ');\n",
        "\n",
        "print('\"Hello World\"')"
      ],
      "execution_count": null,
      "outputs": [
        {
          "output_type": "stream",
          "text": [
            "\"Hello World\"\n"
          ],
          "name": "stdout"
        }
      ]
    },
    {
      "cell_type": "code",
      "metadata": {
        "colab": {
          "base_uri": "https://localhost:8080/"
        },
        "id": "vlkqoMNFJAqi",
        "outputId": "02e0137b-b9e4-4637-ef5d-90112e0bdbd4"
      },
      "source": [
        "# 이번에는 특수문자 출력에 도전하자!!\n",
        "\n",
        "# 다음 문장을 출력하시오.\n",
        "\n",
        "# \"!@#$%^&*()'\n",
        "# (단, 큰따옴표와 작은따옴표도 함께 출력한다.)\n",
        "\n",
        "print(\"\\\"!@#$%^&*()'\")"
      ],
      "execution_count": null,
      "outputs": [
        {
          "output_type": "stream",
          "text": [
            "\"!@#$%^&*()'\n"
          ],
          "name": "stdout"
        }
      ]
    },
    {
      "cell_type": "code",
      "metadata": {
        "colab": {
          "base_uri": "https://localhost:8080/"
        },
        "id": "UiZE15hrJsJX",
        "outputId": "083ee19d-7c84-4deb-87ba-428601bb2b03"
      },
      "source": [
        "# 윈도우 운영체제의 파일 경로를 출력하는 연습을 해보자.\n",
        " \n",
        "# 파일 경로에는 특수문자들이 포함된다.\n",
        "\n",
        "# 다음 경로를 출력하시오.\n",
        "\n",
        "# \"C:\\Download\\'hello'.py\"\n",
        "# (단, 따옴표도 함께 출력한다.)\n",
        "\n",
        "print(\"\\\"C:\\\\Download\\\\'hello'.py\\\"\")"
      ],
      "execution_count": null,
      "outputs": [
        {
          "output_type": "stream",
          "text": [
            "\"C:\\Download\\'hello'.py\"\n"
          ],
          "name": "stdout"
        }
      ]
    },
    {
      "cell_type": "code",
      "metadata": {
        "colab": {
          "base_uri": "https://localhost:8080/"
        },
        "id": "CDRbBwC4KKxv",
        "outputId": "dec8d6b9-b9af-49aa-aced-da2383c10673"
      },
      "source": [
        "# 이번에는 다음과 같은 python프로그램의 소스코드를 출력해보자.\n",
        "\n",
        "# print(\"Hello\\nWorld\")\n",
        "\n",
        "# 위 코드를 정확히 그대로 출력하시오.(공백문자 주의)\n",
        "\n",
        "print('print(\"Hello\\\\nWorld\")')"
      ],
      "execution_count": null,
      "outputs": [
        {
          "output_type": "stream",
          "text": [
            "print(\"Hello\\nWorld\")\n"
          ],
          "name": "stdout"
        }
      ]
    },
    {
      "cell_type": "code",
      "metadata": {
        "id": "Yku0IK3-KdUq"
      },
      "source": [
        ""
      ],
      "execution_count": null,
      "outputs": []
    }
  ]
}