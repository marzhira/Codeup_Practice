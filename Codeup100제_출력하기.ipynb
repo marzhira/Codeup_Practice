{
  "nbformat": 4,
  "nbformat_minor": 0,
  "metadata": {
    "colab": {
      "name": "Codeup100제_출력하기",
      "provenance": [],
      "collapsed_sections": [],
      "authorship_tag": "ABX9TyMW7iFLH/DOXlZY4NmasM07",
      "include_colab_link": true
    },
    "kernelspec": {
      "name": "python3",
      "display_name": "Python 3"
    },
    "language_info": {
      "name": "python"
    }
  },
  "cells": [
    {
      "cell_type": "markdown",
      "metadata": {
        "id": "view-in-github",
        "colab_type": "text"
      },
      "source": [
        "<a href=\"https://colab.research.google.com/github/marzhira/Codeup_Practice/blob/main/Codeup100%EC%A0%9C_%EC%B6%9C%EB%A0%A5%ED%95%98%EA%B8%B0.ipynb\" target=\"_parent\"><img src=\"https://colab.research.google.com/assets/colab-badge.svg\" alt=\"Open In Colab\"/></a>"
      ]
    },
    {
      "cell_type": "code",
      "metadata": {
        "colab": {
          "base_uri": "https://localhost:8080/"
        },
        "id": "CwjCW9gSHcQR",
        "outputId": "8c5807b3-68f0-497b-c9bc-0cb62108be2f"
      },
      "source": [
        "# python 언어에서 가장 기본적인 명령이 출력문이다.\n",
        "# print( )를 이용해 다음 단어를 출력하시오.\n",
        "\n",
        "# Hello\n",
        "\n",
        "print(\"Hello\")"
      ],
      "execution_count": null,
      "outputs": [
        {
          "output_type": "stream",
          "text": [
            "Hello\n"
          ],
          "name": "stdout"
        }
      ]
    },
    {
      "cell_type": "code",
      "metadata": {
        "colab": {
          "base_uri": "https://localhost:8080/"
        },
        "id": "IGCo5cPCH0Ad",
        "outputId": "3361ef84-8a11-4b41-9647-1c307853349d"
      },
      "source": [
        "# 이번에는 공백( )을 포함한 문장을 출력한다.\n",
        "# 다음 문장을 출력해보자.\n",
        "\n",
        "# Hello World\n",
        "# (대소문자에 주의한다.)\n",
        "\n",
        "print(\"Hello World\")"
      ],
      "execution_count": null,
      "outputs": [
        {
          "output_type": "stream",
          "text": [
            "Hello World\n"
          ],
          "name": "stdout"
        }
      ]
    },
    {
      "cell_type": "code",
      "metadata": {
        "colab": {
          "base_uri": "https://localhost:8080/"
        },
        "id": "ww9E4x1_ICLE",
        "outputId": "683f8e7e-01aa-4624-ea15-f759ff9063ca"
      },
      "source": [
        "# 이번에는 줄을 바꿔 출력하는 출력문을 연습해보자.\n",
        "# 다음과 같이 줄을 바꿔 출력해야 한다.\n",
        "\n",
        "# Hello\n",
        "# World\n",
        "# (두 줄에 걸쳐 줄을 바꿔 출력)\n",
        "\n",
        "print(\"Hello\")\n",
        "print(\"World\")"
      ],
      "execution_count": null,
      "outputs": [
        {
          "output_type": "stream",
          "text": [
            "Hello\n",
            "World\n"
          ],
          "name": "stdout"
        }
      ]
    },
    {
      "cell_type": "code",
      "metadata": {
        "colab": {
          "base_uri": "https://localhost:8080/"
        },
        "id": "8DlWpc5AIUOE",
        "outputId": "567376b2-473e-47da-d8d8-9d07be688388"
      },
      "source": [
        "# 이번에는 작은 따옴표(')(single quotation mark)가 들어있는\n",
        "# 출력문 연습을 해보자.\n",
        "\n",
        "# 다음 문장을 출력하시오.\n",
        "\n",
        "# 'Hello'\n",
        "print(\"'Hello'\")"
      ],
      "execution_count": null,
      "outputs": [
        {
          "output_type": "stream",
          "text": [
            "'Hello'\n"
          ],
          "name": "stdout"
        }
      ]
    },
    {
      "cell_type": "code",
      "metadata": {
        "colab": {
          "base_uri": "https://localhost:8080/"
        },
        "id": "lsNEZ7gqIgub",
        "outputId": "c94be1e1-c4c9-4c4e-fb9d-f64e710dea68"
      },
      "source": [
        "# 이번에는 큰따옴표(\")(double quotation mark)가 포함된 출력문을 연습해보자.\n",
        "\n",
        "# 다음 문장을 출력하시오.\n",
        "\n",
        "# \"Hello World\"\n",
        "# (단, 큰따옴표도 함께 출력한다.)\n",
        "\n",
        "# 예시\n",
        "# print(' \" ');\n",
        "\n",
        "print('\"Hello World\"')"
      ],
      "execution_count": null,
      "outputs": [
        {
          "output_type": "stream",
          "text": [
            "\"Hello World\"\n"
          ],
          "name": "stdout"
        }
      ]
    },
    {
      "cell_type": "code",
      "metadata": {
        "colab": {
          "base_uri": "https://localhost:8080/"
        },
        "id": "vlkqoMNFJAqi",
        "outputId": "02e0137b-b9e4-4637-ef5d-90112e0bdbd4"
      },
      "source": [
        "# 이번에는 특수문자 출력에 도전하자!!\n",
        "\n",
        "# 다음 문장을 출력하시오.\n",
        "\n",
        "# \"!@#$%^&*()'\n",
        "# (단, 큰따옴표와 작은따옴표도 함께 출력한다.)\n",
        "\n",
        "print(\"\\\"!@#$%^&*()'\")"
      ],
      "execution_count": null,
      "outputs": [
        {
          "output_type": "stream",
          "text": [
            "\"!@#$%^&*()'\n"
          ],
          "name": "stdout"
        }
      ]
    },
    {
      "cell_type": "code",
      "metadata": {
        "colab": {
          "base_uri": "https://localhost:8080/"
        },
        "id": "UiZE15hrJsJX",
        "outputId": "083ee19d-7c84-4deb-87ba-428601bb2b03"
      },
      "source": [
        "# 윈도우 운영체제의 파일 경로를 출력하는 연습을 해보자.\n",
        " \n",
        "# 파일 경로에는 특수문자들이 포함된다.\n",
        "\n",
        "# 다음 경로를 출력하시오.\n",
        "\n",
        "# \"C:\\Download\\'hello'.py\"\n",
        "# (단, 따옴표도 함께 출력한다.)\n",
        "\n",
        "print(\"\\\"C:\\\\Download\\\\'hello'.py\\\"\")"
      ],
      "execution_count": null,
      "outputs": [
        {
          "output_type": "stream",
          "text": [
            "\"C:\\Download\\'hello'.py\"\n"
          ],
          "name": "stdout"
        }
      ]
    },
    {
      "cell_type": "code",
      "metadata": {
        "colab": {
          "base_uri": "https://localhost:8080/"
        },
        "id": "CDRbBwC4KKxv",
        "outputId": "dec8d6b9-b9af-49aa-aced-da2383c10673"
      },
      "source": [
        "# 이번에는 다음과 같은 python프로그램의 소스코드를 출력해보자.\n",
        "\n",
        "# print(\"Hello\\nWorld\")\n",
        "\n",
        "# 위 코드를 정확히 그대로 출력하시오.(공백문자 주의)\n",
        "\n",
        "print('print(\"Hello\\\\nWorld\")')"
      ],
      "execution_count": null,
      "outputs": [
        {
          "output_type": "stream",
          "text": [
            "print(\"Hello\\nWorld\")\n"
          ],
          "name": "stdout"
        }
      ]
    },
    {
      "cell_type": "code",
      "metadata": {
        "id": "Yku0IK3-KdUq",
        "colab": {
          "base_uri": "https://localhost:8080/"
        },
        "outputId": "93e7579a-9129-4887-cc85-bdfb0f1edf89"
      },
      "source": [
        "# 문자(character)는\n",
        "# 0~9, a~z, A~Z, !, @, #, {, [, <, ... 과 같이 \n",
        "# 길이가 1인 기호라고 할 수 있다.\n",
        "\n",
        "# 변수에 문자 1개를 저장한 후\n",
        "# 변수에 저장되어 있는 문자를 그대로 출력해보자.\n",
        "\n",
        "c = input()\n",
        "print(c)"
      ],
      "execution_count": 30,
      "outputs": [
        {
          "output_type": "stream",
          "text": [
            "a\n",
            "a\n"
          ],
          "name": "stdout"
        }
      ]
    },
    {
      "cell_type": "code",
      "metadata": {
        "colab": {
          "base_uri": "https://localhost:8080/"
        },
        "id": "QmzOjjHOb3S0",
        "outputId": "78c8b712-4fdb-43cc-b8ed-4b38b210fc40"
      },
      "source": [
        "# 정수(integer)는\n",
        "# 양의 정수(1, 2, 3, 4, 5, ...), 음의 정수(-1, -2, -3, -4, -5, ...), 0 과 같이\n",
        "# 소숫점 아래에 수가 없는 수라고 할 수 있다.\n",
        "\n",
        "# 변수에 정수값을 저장한 후 정수로 변환하여 출력해보자.\n",
        "\n",
        "i = int(input())\n",
        "print(i)"
      ],
      "execution_count": 45,
      "outputs": [
        {
          "output_type": "stream",
          "text": [
            "1\n",
            "1\n"
          ],
          "name": "stdout"
        }
      ]
    },
    {
      "cell_type": "code",
      "metadata": {
        "colab": {
          "base_uri": "https://localhost:8080/"
        },
        "id": "QvsOVmZ9fRUp",
        "outputId": "f9809705-b6ad-4a01-d6d6-d7c4762d5fe3"
      },
      "source": [
        "# 숫자(0~9)와 소수점(.)을 사용해 표현한 수를 실수(real number)라고 한다.\n",
        "\n",
        "# 변수에 실수값을 저장한 후\n",
        "# 변수에 저장되어 있는 값을 그대로 출력해보자.\n",
        "f = float(input())\n",
        "print(f)"
      ],
      "execution_count": 48,
      "outputs": [
        {
          "output_type": "stream",
          "text": [
            "1.414213\n",
            "1.414213\n"
          ],
          "name": "stdout"
        }
      ]
    },
    {
      "cell_type": "code",
      "metadata": {
        "colab": {
          "base_uri": "https://localhost:8080/"
        },
        "id": "g65E-lRSgYXj",
        "outputId": "8342e51f-38f0-4f9b-8f43-3a6565fdc4d5"
      },
      "source": [
        "# 줄을 바꿔 정수(integer) 2개를 입력받아 줄을 바꿔 출력해보자.\n",
        "\n",
        "a = int(input())\n",
        "b = int(input())\n",
        "print(a)\n",
        "print(b)"
      ],
      "execution_count": 49,
      "outputs": [
        {
          "output_type": "stream",
          "text": [
            "1\n",
            "2\n",
            "1\n",
            "2\n"
          ],
          "name": "stdout"
        }
      ]
    },
    {
      "cell_type": "code",
      "metadata": {
        "colab": {
          "base_uri": "https://localhost:8080/"
        },
        "id": "pzXwq87exBMj",
        "outputId": "6295a649-46fa-4e33-9b7e-564fbd627790"
      },
      "source": [
        "# 줄을 바꿔 문자(character) 2개를 입력받고, 순서를 바꿔 한 줄씩 출력해보자.\n",
        "\n",
        "a = input()\n",
        "b = input()\n",
        "print(b)\n",
        "print(a)"
      ],
      "execution_count": 53,
      "outputs": [
        {
          "output_type": "stream",
          "text": [
            "a\n",
            "b\n",
            "b\n",
            "a\n"
          ],
          "name": "stdout"
        }
      ]
    }
  ]
}